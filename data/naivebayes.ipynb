{
 "cells": [
  {
   "cell_type": "markdown",
   "metadata": {},
   "source": [
    "## Naïve Bayes – Additional Advice\n",
    "This notebook guides you through multiple steps you can follow to create a naïve Bayes classifier. After following these steps you will still need to collate and move your code into the main assignment notebook file so that it meets the required format.\n",
    "\n",
    "Read each step (including the maths!) carefully.\n",
    "\n",
    "You can implement a naïve Bayes classifier without following this advice.\n",
    "\n",
    "This notebook will not be graded and does not need to be submitted."
   ]
  },
  {
   "cell_type": "code",
   "execution_count": 8,
   "metadata": {},
   "outputs": [
    {
     "name": "stdout",
     "output_type": "stream",
     "text": [
      "Shape of the spam training data set: (1000, 55)\n",
      "[[1. 0. 0. ... 0. 0. 0.]\n",
      " [0. 0. 1. ... 1. 0. 0.]\n",
      " [0. 0. 0. ... 1. 0. 0.]\n",
      " ...\n",
      " [0. 0. 0. ... 0. 0. 1.]\n",
      " [1. 1. 1. ... 1. 1. 0.]\n",
      " [1. 0. 0. ... 1. 1. 1.]]\n"
     ]
    }
   ],
   "source": [
    "import numpy as np\n",
    "\n",
    "training_spam = np.loadtxt(open(\"training_spam.csv\"), delimiter=\",\")\n",
    "print(\"Shape of the spam training data set:\", training_spam.shape)\n",
    "print(training_spam)"
   ]
  },
  {
   "cell_type": "markdown",
   "metadata": {},
   "source": [
    "## The model:  naïve Bayes\n",
    "Your [naïve Bayes](https://en.wikipedia.org/wiki/Naive_Bayes_classifier) classifier will distinguish between two classes:\n",
    "\n",
    "* $C = 1$ for spam messages\n",
    "* $C = 0$ for ham messages\n",
    "\n",
    "\n",
    "The classifier builds a model for the probability $p(C=c\\ |\\ \\text{message})$ that a given message belongs to a certain class. A new message is then classified based on the Bayesian *maximum a posteriori* estimate\n",
    "$\\require{color}$\n",
    "\\begin{equation}\n",
    "\\hat{c} = \\underset{c \\in \\{0,1\\}}{\\operatorname{argmax}} \\  \\textcolor{blue}{p(C=c\\ |\\ \\text{message})}.\n",
    "\\end{equation}\n",
    "Using Bayes' rule we can write\n",
    "\n",
    "\\begin{equation}\n",
    "p(C=c\\ |\\ \\text{message}) = \\frac{p(\\text{message}\\ |\\ C=c)p(C=c)}{p(\\text{message}\\ |\\ C=1)p(C=1) + p(\\text{message}\\ |\\ C=0)p(C=0)}.  \\quad \\quad \n",
    "\\end{equation}\n",
    "\n",
    "The denominator is the same for both classes and we can thus drop it to get\n",
    "\n",
    "\\begin{equation}\n",
    "\\textcolor{blue}{p(C=c\\ |\\ \\text{message})} \\propto \\textcolor{orange}{p(\\text{message}\\ |\\ C=c)}\\textcolor{green}{p(C=c)},\n",
    "\\end{equation}\n",
    "\n",
    "where $\\propto$ means \"proportional to\". The class priors $\\textcolor{green}{p(C=c)}$ can be computed directly (you will do so in exercise A) but we need to further simplify $\\textcolor{orange}{p(\\text{message} \\ |\\ C=c)}$.\n",
    "\n",
    "\n",
    "### Choice of the event model: *Multinomial* naïve Bayes\n",
    "\n",
    "Different naïve Bayes models differ in their distributional assumptions about $\\textcolor{orange}{p(\\text{message}\\ |\\ C=c)}$. We represent a message using a **binary** [bag-of-words](https://en.wikipedia.org/wiki/Bag-of-words_model) model. Specifically, a message is represented as a set of $k$ keywords, that is, $message = (w_1, ..., w_k)$, where $w_i = 1$ if the  keyword $w_i$ appears in the message and $w_i = 0$ otherwise.\n",
    "\n",
    "We assume that the $p(w_1, ..., w_k |\\ C=c)$ follows a [multinomial distribution](https://en.wikipedia.org/wiki/Multinomial_distribution) for each class. Don't let the name scare you, this model simply assigns probabilities to different counts of events with multiple outcomes. So for example: \"I roll a biased six-sided die six times, what is the probability that I get each side occurring exactly once\" is a question that can be answered with a multinomial distribution. You don't need to understand all of the equations on the Wikipedia page.\n",
    "\n",
    "Intuitively, the multinomial distribution assumes that the words of a message were \"drawn\" independently from a bag of $k$ different words. Depending on the class membership $c$, each keyword $w$ has a probability $\\theta_{c, w}$ of being drawn. For example,\n",
    "\n",
    "* $\\theta_{spam, w}$ will have high value for $w \\in \\{$bank, transfer, buy,... $\\}$.\n",
    "* $\\theta_{ham, w}$ will have high value for $w \\in \\{$paper, conference, proposal, experiment,... $\\}$, if the training data was mostly gathered from emails of researchers.\n",
    "\n",
    "Under these assumptions, the likelihood of a message, given that it belongs to class $c$, is then proportional to\n",
    "\\begin{equation}\n",
    "\\textcolor{orange}{p(\\text{message}\\ |\\ C=c)} \\propto \\prod_{i = 1}^k  \\left(\\textcolor{brown}{\\theta_{c, w_i}} \\right)^{w_i}.\n",
    "\\end{equation}\n",
    "\n",
    "\n",
    "The parameters $\\textcolor{brown}{\\theta_{c, w}}$ are estimated by counting the relative frequencies in the training data. Use **Laplace-smoothing** with $\\alpha = 1$ (add-one smoothing), that is,\n",
    "\\begin{equation}\n",
    "\\textcolor{brown}{\\theta_{c, w}} = \\frac{n_{c, w} + \\alpha}{n_{c} + k \\alpha},\n",
    "\\end{equation}\n",
    "where $n_{c, w}$ is the number of times the keyword $w$ appears in messages of class $c$ in the training set and $n_{c}$ is the total count of keywords for all messages of class $c$, that is, $n_{c} = \\sum_w n_{c, w}$.\n",
    "\n",
    "\n",
    "\n",
    "We are now finally able to rewrite the *maximum a posteriori* estimate in a form that is easy to compute:\n",
    "\\begin{equation}\n",
    "\\hat{c} = \\underset{c \\in \\{0,1\\}}{\\operatorname{argmax}} \\ \\left[ \\textcolor{green}{p(C=c)}   \\prod_{i = 1}^k  \\left(\\textcolor{brown}{\\theta_{c, w_i}} \\right)^{w_i}\\right].\n",
    "\\end{equation}\n",
    "\n",
    "\n",
    "#### Increasing numerical stability\n",
    "We can increase the numerical stability of the algorithm by taking logarithms of the posterior distributions, that is,\n",
    "\\begin{equation}\n",
    "\\hat{c} = \\underset{c \\in \\{0,1\\}}{\\operatorname{argmax}} \\ \\log \\left( \\textcolor{green}{p(C=c)}   \\prod_{i = 1}^k  \\left(\\textcolor{brown}{\\theta_{c, w_i}}\\right)^{w_i} \\right) \\\\\n",
    " = \\underset{c \\in \\{0,1\\}}{\\operatorname{argmax}} \\ \\left[ \\log( \\textcolor{green}{p(C=c)}) + \\sum_{i = 1}^k w_i \\ \\log \\left(\\textcolor{brown}{\\theta_{c, w_i}} \\right) \\right].\n",
    "\\end{equation}"
   ]
  },
  {
   "cell_type": "markdown",
   "metadata": {},
   "source": [
    "## Part A: Estimate class priors\n",
    "\n",
    "Define a function called `estimate_log_class_priors()` that takes as input a data set with binary response variable (0s and 1s) in the left-most column and returns a numpy array containing the **the logarithm** of the empirical class priors $\\textcolor{green}{p(C=c)}$ for $c \\in \\{0, 1\\}$."
   ]
  },
  {
   "cell_type": "code",
   "execution_count": 10,
   "metadata": {},
   "outputs": [],
   "source": [
    "def estimate_log_class_priors(data):\n",
    "    \"\"\"\n",
    "    Given a data set with binary response variable (0s and 1s) in the\n",
    "    left-most column, calculate the logarithm of the empirical class priors,\n",
    "    that is, the logarithm of the proportions of 0s and 1s:\n",
    "        log(p(C=0)) and log(p(C=1))\n",
    "\n",
    "    :param data: a two-dimensional numpy-array with shape = [n_samples, 1 + n_features]\n",
    "                 the first column contains the binary response (coded as 0s and 1s).\n",
    "\n",
    "    :return log_class_priors: a numpy array of length two\n",
    "    \"\"\"\n",
    "\n",
    "    priors = data[:, 0]\n",
    "\n",
    "    spam_no = np.sum(priors == 0)\n",
    "    ham_no = np.sum(priors == 1)\n",
    "    total_no = spam_no + ham_no\n",
    "    \n",
    "    log_class_priors = np.array([np.log(spam_no / total_no), np.log(ham_no / total_no)])\n",
    "\n",
    "    ### YOUR CODE HERE...\n",
    "    return log_class_priors"
   ]
  },
  {
   "cell_type": "code",
   "execution_count": 11,
   "metadata": {
    "deletable": false,
    "editable": false,
    "nbgrader": {
     "cell_type": "code",
     "checksum": "43a82f9670ff38fcd62a636699e1880a",
     "grade": false,
     "grade_id": "cell-e56af38a496339fb",
     "locked": true,
     "schema_version": 3,
     "solution": false,
     "task": false
    }
   },
   "outputs": [
    {
     "name": "stdout",
     "output_type": "stream",
     "text": [
      "result [-0.48939034 -0.94933059]\n"
     ]
    }
   ],
   "source": [
    "# You can use this cell to check whether the returned objects of your function are of the right data type.\n",
    "log_class_priors = estimate_log_class_priors(training_spam)\n",
    "print(\"result\", log_class_priors)\n",
    "\n",
    "# Check length\n",
    "assert(len(log_class_priors) == 2)\n",
    "\n",
    "# Check whether the returned object is a numpy.ndarray\n",
    "assert(isinstance(log_class_priors, np.ndarray))\n",
    "\n",
    "# Check wehther the values of this numpy.array are floats.\n",
    "assert(log_class_priors.dtype == float)\n",
    "\n",
    "# Check wehther the values are both negative (the logarithm of a probability 0 < p < 1 should be negative).\n",
    "assert(np.all(log_class_priors < 0))"
   ]
  },
  {
   "cell_type": "markdown",
   "metadata": {},
   "source": [
    "## Part B: Estimate class-conditional likelihoods\n",
    "Define a function called `estimate_log_class_conditional_likelihoods()` that takes as input a data set with binary response variable (0s and 1s) in the left-most column and returns **the logarithm** of the empirical class-conditional likelihoods $\\log \\left(\\textcolor{brown}{\\theta_{c, w_i}} \\right)$ for all words $w_i$ and both classes ($c \\in {0, 1}$). These parameters should be returned in a two-dimensional numpy-array with shape = `[num_classes, num_features]`.\n",
    "\n",
    "Assume a multinomial event model and use Laplace smoothing with $\\alpha = 1$. \n",
    "\n",
    "Hint: many `numpy`-functions contain an `axis` argument. If you specify `axis=0`, you can perform column-wise (that is, feature-wise!) computations."
   ]
  },
  {
   "cell_type": "code",
   "execution_count": 12,
   "metadata": {},
   "outputs": [],
   "source": [
    "def estimate_log_class_conditional_likelihoods(data, alpha=1.0):\n",
    "    \"\"\"\n",
    "    Given a data set with binary response variable (0s and 1s) in the\n",
    "    left-most column and binary features (words), calculate the empirical\n",
    "    class-conditional likelihoods, that is,\n",
    "    log(P(w_i | c)) for all features w_i and both classes (c in {0, 1}).\n",
    "\n",
    "    Assume a multinomial feature distribution and use Laplace smoothing\n",
    "    if alpha > 0.\n",
    "\n",
    "    :param data: a two-dimensional numpy-array with shape = [n_samples, 1 + n_features]\n",
    "\n",
    "    :return theta:\n",
    "        a numpy array of shape = [2, n_features]. theta[j, i] corresponds to the\n",
    "        logarithm of the probability of feature i appearing in a sample belonging \n",
    "        to class j.\n",
    "    \"\"\"\n",
    "\n",
    "    spam = data[data[:, 0] == 0]\n",
    "    ham = data[data[:, 0] == 1]\n",
    "    spam = spam[:, 1:]\n",
    "    ham = ham[:, 1:]\n",
    "\n",
    "    spam_features_sum = spam.sum(axis=0) + alpha\n",
    "    ham_features_sum = ham.sum(axis=0) + alpha\n",
    "\n",
    "    spam_prob_denominator = spam.shape[0] + alpha\n",
    "    ham_prob_denominator = ham.shape[0] + alpha\n",
    "\n",
    "    spam_probs = np.log(spam_features_sum/ spam_prob_denominator)\n",
    "    ham_probs = np.log(ham_features_sum / ham_prob_denominator)\n",
    "\n",
    "    theta = np.array([spam_probs, ham_probs])\n",
    "            \n",
    "    return theta"
   ]
  },
  {
   "cell_type": "code",
   "execution_count": 13,
   "metadata": {
    "deletable": false,
    "editable": false,
    "nbgrader": {
     "cell_type": "code",
     "checksum": "dbfe057bc1b6889411b95a4acf0456ff",
     "grade": false,
     "grade_id": "cell-851fa744923a9bba",
     "locked": true,
     "schema_version": 3,
     "solution": false,
     "task": false
    }
   },
   "outputs": [
    {
     "name": "stdout",
     "output_type": "stream",
     "text": [
      "[[-1.74716609 -2.30912106 -1.28419649 -5.72684775 -1.47835251 -2.26111184\n",
      "  -3.85504557 -2.70642286 -2.43101088 -1.79502211 -2.78240877 -0.84404583\n",
      "  -2.02554577 -3.08779042 -3.93508828 -2.30912106 -2.24560766 -2.02554577\n",
      "  -0.57935327 -3.85504557 -1.0728874  -4.62823546 -3.58678158 -3.85504557\n",
      "  -0.97325756 -1.27250045 -1.3201285  -1.85564674 -2.02554577 -1.90913542\n",
      "  -2.29286054 -2.54879392 -2.20048722 -2.52817463 -1.86611804 -1.78526594\n",
      "  -1.24951093 -3.93508828 -2.17149969 -2.30912106 -3.08779042 -2.08926159\n",
      "  -2.24560766 -2.29286054 -1.2214979  -1.76603458 -3.93508828 -2.80907702\n",
      "  -1.69260711 -0.59104931 -1.92018526 -1.23821138 -2.26111184 -2.44970301]\n",
      " [-0.97057275 -1.16521479 -0.51426797 -4.01509519 -0.42367107 -0.87960097\n",
      "  -0.89841031 -1.01936292 -1.20741515 -0.74606958 -1.20741515 -0.4679439\n",
      "  -1.1326916  -2.06918504 -1.95367215 -0.56284264 -0.8252069  -1.04835045\n",
      "  -0.10880286 -1.48366853 -0.2084327  -3.01656636 -1.11681825 -0.91114933\n",
      "  -3.47609869 -3.76378076 -5.26785816 -4.16924587 -4.35156743 -4.57471098\n",
      "  -5.26785816 -5.96100534 -3.39605598 -5.96100534 -3.18841662 -2.62880083\n",
      "  -2.78295151 -4.01509519 -3.127792   -1.99071343 -5.96100534 -4.86239305\n",
      "  -2.74212951 -4.35156743 -1.28817651 -3.39605598 -4.16924587 -4.57471098\n",
      "  -1.80212226 -0.451617   -2.3774864  -0.15888696 -0.45974713 -1.28817651]]\n"
     ]
    }
   ],
   "source": [
    "# You can use this cell to check whether the returned objects of your function are of the right data type.\n",
    "log_class_conditional_likelihoods = estimate_log_class_conditional_likelihoods(training_spam, alpha=1.0)\n",
    "print(log_class_conditional_likelihoods)\n",
    "\n",
    "# Check data type(s)\n",
    "assert(isinstance(log_class_conditional_likelihoods, np.ndarray))\n",
    "\n",
    "# Check shape of numpy array\n",
    "assert(log_class_conditional_likelihoods.shape == (2, 54))\n",
    "\n",
    "# Check data type of array elements\n",
    "assert(log_class_conditional_likelihoods.dtype == float)"
   ]
  },
  {
   "cell_type": "markdown",
   "metadata": {},
   "source": [
    "## Part  C: Classify e-mails\n",
    "\n",
    "Having calculated the log class priors and the log class-conditional likelihoods for a given training set, define a function called `predict()`that takes a data set of new messages as input and predicts for each message whether it is spam or not. Note that the input should **not** contain a response variable."
   ]
  },
  {
   "cell_type": "code",
   "execution_count": null,
   "metadata": {},
   "outputs": [],
   "source": [
    "def predict(new_data, log_class_priors, log_class_conditional_likelihoods):\n",
    "    \"\"\"\n",
    "    Given a new data set with binary features, predict the corresponding\n",
    "    response for each instance (row) of the new_data set.\n",
    "\n",
    "    :param new_data: a two-dimensional numpy-array with shape = [n_test_samples, n_features].\n",
    "    :param log_class_priors: a numpy array of length 2.\n",
    "    :param log_class_conditional_likelihoods: a numpy array of shape = [2, n_features].\n",
    "        theta[j, i] corresponds to the logarithm of the probability of feature i appearing\n",
    "        in a sample belonging to class j.\n",
    "    :return class_predictions: a numpy array containing the class predictions for each row\n",
    "        of new_data.\n",
    "    \"\"\"\n",
    "    ### YOUR CODE HERE...\n",
    "    return class_predictions\n"
   ]
  },
  {
   "cell_type": "code",
   "execution_count": null,
   "metadata": {
    "deletable": false,
    "editable": false,
    "nbgrader": {
     "cell_type": "code",
     "checksum": "77f96654132ddd809aff99ccad684992",
     "grade": false,
     "grade_id": "cell-4c8adaa150209180",
     "locked": true,
     "schema_version": 3,
     "solution": false,
     "task": false
    }
   },
   "outputs": [],
   "source": [
    "# You can use this cell to check whether the returned objects of your function are of the right data type.\n",
    "class_predictions = predict(training_spam[:, 1:], log_class_priors, log_class_conditional_likelihoods)\n",
    "\n",
    "# Check data type(s)\n",
    "assert(isinstance(class_predictions, np.ndarray))\n",
    "\n",
    "# Check shape of numpy array\n",
    "assert(class_predictions.shape == (1000,))\n",
    "\n",
    "# Check data type of array elements\n",
    "assert(np.all(np.logical_or(class_predictions == 0, class_predictions == 1)))"
   ]
  },
  {
   "cell_type": "markdown",
   "metadata": {},
   "source": [
    "Now test your `predict` function by classifying messages. You can do this to the *training* data, but you should also try it on the *testing* data. "
   ]
  },
  {
   "cell_type": "code",
   "execution_count": null,
   "metadata": {},
   "outputs": [],
   "source": [
    "# Check accuracy\n",
    "true_classes = training_spam[:, 0]\n",
    "training_set_accuracy = np.mean(np.equal(class_predictions, true_classes))\n",
    "print(f\"Accuracy on the training set: {training_set_accuracy}\")"
   ]
  },
  {
   "cell_type": "markdown",
   "metadata": {},
   "source": [
    "Once you are done, you can move the code into the main assignment notebook.\n",
    "\n",
    "One way to do this is to follow the rough structure of the class that already exists in that notebook. You can use the `train` method to pass in the data and perform all of the steps before the prediction. You should store data in instance variables, e.g. `self.log_class_priors` and `self.log_class_conditional_likelihoods`. This means that then you can set up the `predict` method to match the one above without needing to pass in the additional variables. **Important:** the predict method must only take a single variable as a parameter (the one called `new_data`) in the skeleton code above."
   ]
  }
 ],
 "metadata": {
  "kernelspec": {
   "display_name": "base",
   "language": "python",
   "name": "python3"
  },
  "language_info": {
   "codemirror_mode": {
    "name": "ipython",
    "version": 3
   },
   "file_extension": ".py",
   "mimetype": "text/x-python",
   "name": "python",
   "nbconvert_exporter": "python",
   "pygments_lexer": "ipython3",
   "version": "3.12.7"
  }
 },
 "nbformat": 4,
 "nbformat_minor": 2
}
